{
 "cells": [
  {
   "cell_type": "code",
   "execution_count": null,
   "id": "3ec17ebb",
   "metadata": {},
   "outputs": [],
   "source": [
    "###Tuple和List区别："
   ]
  },
  {
   "cell_type": "code",
   "execution_count": null,
   "id": "98272257",
   "metadata": {},
   "outputs": [],
   "source": [
    "Tuple 是不可修改的,tuple可以作为dict的key值，作为函数的参数，使用cache等，也可以放入set\n",
    "Tuple is immutable,tuple could be the key of dictionaries,sets,and function arguments which support cache operate."
   ]
  },
  {
   "cell_type": "code",
   "execution_count": 14,
   "id": "e0ab2119",
   "metadata": {},
   "outputs": [
    {
     "ename": "TypeError",
     "evalue": "'tuple' object does not support item assignment",
     "output_type": "error",
     "traceback": [
      "\u001b[1;31m---------------------------------------------------------------------------\u001b[0m",
      "\u001b[1;31mTypeError\u001b[0m                                 Traceback (most recent call last)",
      "Input \u001b[1;32mIn [14]\u001b[0m, in \u001b[0;36m<cell line: 2>\u001b[1;34m()\u001b[0m\n\u001b[0;32m      1\u001b[0m coordinate \u001b[38;5;241m=\u001b[39m (\u001b[38;5;241m10\u001b[39m,\u001b[38;5;241m20\u001b[39m)\n\u001b[1;32m----> 2\u001b[0m coordinate[\u001b[38;5;241m0\u001b[39m] \u001b[38;5;241m=\u001b[39m \u001b[38;5;241m-\u001b[39m\u001b[38;5;241m10\u001b[39m\n",
      "\u001b[1;31mTypeError\u001b[0m: 'tuple' object does not support item assignment"
     ]
    }
   ],
   "source": [
    "coordinate = (10,20)\n",
    "coordinate[0] = -10"
   ]
  },
  {
   "cell_type": "code",
   "execution_count": null,
   "id": "e0d5484e",
   "metadata": {},
   "outputs": [],
   "source": [
    "List 能够通过pop(0)/pop(-1)迅速的变成队列和堆栈\n",
    "List could use pop(0)/pop(-1) to convert into Queue/Stack\n",
    "###Some Operations only supported in List\n",
    "list & tuple support +\n",
    "\n",
    "list support 'count()' , tuple don't support\n",
    "\n",
    "list support 'del numbers[9]' , tuple don't support\n",
    "\n",
    "list:pop(),reverse(),remove() support these ,but tuple don't support\n",
    "    \n",
    "list support objective sort method , tuple don't support"
   ]
  },
  {
   "cell_type": "code",
   "execution_count": 15,
   "id": "b6b2d165",
   "metadata": {},
   "outputs": [],
   "source": [
    "[1,2,3]+[4,5,6]\n",
    "t= (1,2,3)\n",
    "t += (4,5,6)"
   ]
  },
  {
   "cell_type": "code",
   "execution_count": null,
   "id": "482b0cff",
   "metadata": {},
   "outputs": [],
   "source": [
    "num = [1,12,3,3,5,8,13,5,322]\n",
    "num.sort()\n"
   ]
  },
  {
   "cell_type": "code",
   "execution_count": null,
   "id": "9dfd1e3f",
   "metadata": {},
   "outputs": [],
   "source": [
    "List/Tuple 中的 *\n"
   ]
  },
  {
   "cell_type": "code",
   "execution_count": null,
   "id": "f3a35e21",
   "metadata": {},
   "outputs": [],
   "source": [
    "names =('Joey','Jack','Tony','Rose')"
   ]
  },
  {
   "cell_type": "code",
   "execution_count": null,
   "id": "fb039c1a",
   "metadata": {},
   "outputs": [],
   "source": [
    "names[::-1]"
   ]
  },
  {
   "cell_type": "code",
   "execution_count": null,
   "id": "43a62b89",
   "metadata": {},
   "outputs": [],
   "source": [
    "names[0:] == names[:]"
   ]
  },
  {
   "cell_type": "code",
   "execution_count": null,
   "id": "84b5e682",
   "metadata": {},
   "outputs": [],
   "source": [
    "names[:]"
   ]
  },
  {
   "cell_type": "code",
   "execution_count": null,
   "id": "1c9815e0",
   "metadata": {},
   "outputs": [],
   "source": []
  },
  {
   "cell_type": "code",
   "execution_count": null,
   "id": "5a97ea47",
   "metadata": {},
   "outputs": [],
   "source": [
    "names = ('jacy','tom','xiaoming','wang')\n",
    "def matter_match(names):\n",
    "    match names:\n",
    "        case [first,*middle,last] if len(middle) <3:\n",
    "            pass\n",
    "        "
   ]
  },
  {
   "cell_type": "code",
   "execution_count": 16,
   "id": "2df18b21",
   "metadata": {},
   "outputs": [
    {
     "data": {
      "text/plain": [
       "'********'"
      ]
     },
     "execution_count": 16,
     "metadata": {},
     "output_type": "execute_result"
    }
   ],
   "source": [
    "###*mul\n",
    "'*'*8"
   ]
  },
  {
   "cell_type": "code",
   "execution_count": 22,
   "id": "931315b8",
   "metadata": {},
   "outputs": [],
   "source": [
    "import random\n",
    "# random_numbers_err = [random.randint(0,10)]*10\n",
    "random_numbers = [random.randint(0,10)for _ in range(10)]"
   ]
  },
  {
   "cell_type": "code",
   "execution_count": 23,
   "id": "ce0fc232",
   "metadata": {},
   "outputs": [
    {
     "data": {
      "text/plain": [
       "[2,\n",
       " 0,\n",
       " 2,\n",
       " 2,\n",
       " 9,\n",
       " 5,\n",
       " 3,\n",
       " 2,\n",
       " 1,\n",
       " 9,\n",
       " 6,\n",
       " 6,\n",
       " 6,\n",
       " 4,\n",
       " 1,\n",
       " 10,\n",
       " 0,\n",
       " 1,\n",
       " 9,\n",
       " 1,\n",
       " 10,\n",
       " 4,\n",
       " 10,\n",
       " 7,\n",
       " 4,\n",
       " 8,\n",
       " 10,\n",
       " 9,\n",
       " 7,\n",
       " 0,\n",
       " 1,\n",
       " 6,\n",
       " 6,\n",
       " 5,\n",
       " 9,\n",
       " 7,\n",
       " 1,\n",
       " 8,\n",
       " 9,\n",
       " 1,\n",
       " 0,\n",
       " 4,\n",
       " 3,\n",
       " 5,\n",
       " 4,\n",
       " 2,\n",
       " 1,\n",
       " 9,\n",
       " 3,\n",
       " 9,\n",
       " 8,\n",
       " 8,\n",
       " 8,\n",
       " 5,\n",
       " 1,\n",
       " 6,\n",
       " 9,\n",
       " 6,\n",
       " 6,\n",
       " 7,\n",
       " 3,\n",
       " 3,\n",
       " 3,\n",
       " 0,\n",
       " 4,\n",
       " 10,\n",
       " 6,\n",
       " 9,\n",
       " 10,\n",
       " 7,\n",
       " 5,\n",
       " 1,\n",
       " 10,\n",
       " 6,\n",
       " 5,\n",
       " 9,\n",
       " 3,\n",
       " 3,\n",
       " 8,\n",
       " 6,\n",
       " 2,\n",
       " 7,\n",
       " 2,\n",
       " 5,\n",
       " 0,\n",
       " 8,\n",
       " 2,\n",
       " 6,\n",
       " 7,\n",
       " 7,\n",
       " 9,\n",
       " 7,\n",
       " 0,\n",
       " 9,\n",
       " 0,\n",
       " 0,\n",
       " 2,\n",
       " 2,\n",
       " 10,\n",
       " 3]"
      ]
     },
     "execution_count": 23,
     "metadata": {},
     "output_type": "execute_result"
    }
   ],
   "source": [
    "random_numbers"
   ]
  },
  {
   "cell_type": "code",
   "execution_count": null,
   "id": "3cfac417",
   "metadata": {},
   "outputs": [],
   "source": [
    "from copy import deepcopy,copy"
   ]
  },
  {
   "cell_type": "code",
   "execution_count": 24,
   "id": "51507cfc",
   "metadata": {},
   "outputs": [],
   "source": [
    "states = [('init','0,0')]"
   ]
  },
  {
   "cell_type": "code",
   "execution_count": 26,
   "id": "ede064a1",
   "metadata": {},
   "outputs": [],
   "source": [
    "#  err: possible_states = [states]*10\n",
    "# possible_states = [states[:]]*10\n",
    "#  err: possible_states = [deepcopy(states)]*10\n",
    "possible_states = [copy(states) for _ in range(10)]\n",
    "possible_states_2 = [states for _ in range(10)]"
   ]
  },
  {
   "cell_type": "code",
   "execution_count": null,
   "id": "e29870ea",
   "metadata": {},
   "outputs": [],
   "source": [
    "possible_states_2[-1].append(('test','0,10'))"
   ]
  },
  {
   "cell_type": "code",
   "execution_count": 27,
   "id": "d8bfd7f4",
   "metadata": {},
   "outputs": [],
   "source": [
    "states.append(('right','0,1'))\n",
    "[id(s) for s in possible_states]"
   ]
  },
  {
   "cell_type": "code",
   "execution_count": 28,
   "id": "101836af",
   "metadata": {},
   "outputs": [
    {
     "data": {
      "text/plain": [
       "[[('init', '0,0'), ('right', '0,1')],\n",
       " [('init', '0,0'), ('right', '0,1')],\n",
       " [('init', '0,0'), ('right', '0,1')],\n",
       " [('init', '0,0'), ('right', '0,1')],\n",
       " [('init', '0,0'), ('right', '0,1')],\n",
       " [('init', '0,0'), ('right', '0,1')],\n",
       " [('init', '0,0'), ('right', '0,1')],\n",
       " [('init', '0,0'), ('right', '0,1')],\n",
       " [('init', '0,0'), ('right', '0,1')],\n",
       " [('init', '0,0'), ('right', '0,1')],\n",
       " [('init', '0,0'), ('right', '0,1')],\n",
       " [('init', '0,0'), ('right', '0,1')],\n",
       " [('init', '0,0'), ('right', '0,1')],\n",
       " [('init', '0,0'), ('right', '0,1')],\n",
       " [('init', '0,0'), ('right', '0,1')],\n",
       " [('init', '0,0'), ('right', '0,1')],\n",
       " [('init', '0,0'), ('right', '0,1')],\n",
       " [('init', '0,0'), ('right', '0,1')],\n",
       " [('init', '0,0'), ('right', '0,1')],\n",
       " [('init', '0,0'), ('right', '0,1')],\n",
       " [('init', '0,0'), ('right', '0,1')],\n",
       " [('init', '0,0'), ('right', '0,1')],\n",
       " [('init', '0,0'), ('right', '0,1')],\n",
       " [('init', '0,0'), ('right', '0,1')],\n",
       " [('init', '0,0'), ('right', '0,1')],\n",
       " [('init', '0,0'), ('right', '0,1')],\n",
       " [('init', '0,0'), ('right', '0,1')],\n",
       " [('init', '0,0'), ('right', '0,1')],\n",
       " [('init', '0,0'), ('right', '0,1')],\n",
       " [('init', '0,0'), ('right', '0,1')],\n",
       " [('init', '0,0'), ('right', '0,1')],\n",
       " [('init', '0,0'), ('right', '0,1')],\n",
       " [('init', '0,0'), ('right', '0,1')],\n",
       " [('init', '0,0'), ('right', '0,1')],\n",
       " [('init', '0,0'), ('right', '0,1')],\n",
       " [('init', '0,0'), ('right', '0,1')],\n",
       " [('init', '0,0'), ('right', '0,1')],\n",
       " [('init', '0,0'), ('right', '0,1')],\n",
       " [('init', '0,0'), ('right', '0,1')],\n",
       " [('init', '0,0'), ('right', '0,1')],\n",
       " [('init', '0,0'), ('right', '0,1')],\n",
       " [('init', '0,0'), ('right', '0,1')],\n",
       " [('init', '0,0'), ('right', '0,1')],\n",
       " [('init', '0,0'), ('right', '0,1')],\n",
       " [('init', '0,0'), ('right', '0,1')],\n",
       " [('init', '0,0'), ('right', '0,1')],\n",
       " [('init', '0,0'), ('right', '0,1')],\n",
       " [('init', '0,0'), ('right', '0,1')],\n",
       " [('init', '0,0'), ('right', '0,1')],\n",
       " [('init', '0,0'), ('right', '0,1')],\n",
       " [('init', '0,0'), ('right', '0,1')],\n",
       " [('init', '0,0'), ('right', '0,1')],\n",
       " [('init', '0,0'), ('right', '0,1')],\n",
       " [('init', '0,0'), ('right', '0,1')],\n",
       " [('init', '0,0'), ('right', '0,1')],\n",
       " [('init', '0,0'), ('right', '0,1')],\n",
       " [('init', '0,0'), ('right', '0,1')],\n",
       " [('init', '0,0'), ('right', '0,1')],\n",
       " [('init', '0,0'), ('right', '0,1')],\n",
       " [('init', '0,0'), ('right', '0,1')],\n",
       " [('init', '0,0'), ('right', '0,1')],\n",
       " [('init', '0,0'), ('right', '0,1')],\n",
       " [('init', '0,0'), ('right', '0,1')],\n",
       " [('init', '0,0'), ('right', '0,1')],\n",
       " [('init', '0,0'), ('right', '0,1')],\n",
       " [('init', '0,0'), ('right', '0,1')],\n",
       " [('init', '0,0'), ('right', '0,1')],\n",
       " [('init', '0,0'), ('right', '0,1')],\n",
       " [('init', '0,0'), ('right', '0,1')],\n",
       " [('init', '0,0'), ('right', '0,1')],\n",
       " [('init', '0,0'), ('right', '0,1')],\n",
       " [('init', '0,0'), ('right', '0,1')],\n",
       " [('init', '0,0'), ('right', '0,1')],\n",
       " [('init', '0,0'), ('right', '0,1')],\n",
       " [('init', '0,0'), ('right', '0,1')],\n",
       " [('init', '0,0'), ('right', '0,1')],\n",
       " [('init', '0,0'), ('right', '0,1')],\n",
       " [('init', '0,0'), ('right', '0,1')],\n",
       " [('init', '0,0'), ('right', '0,1')],\n",
       " [('init', '0,0'), ('right', '0,1')],\n",
       " [('init', '0,0'), ('right', '0,1')],\n",
       " [('init', '0,0'), ('right', '0,1')],\n",
       " [('init', '0,0'), ('right', '0,1')],\n",
       " [('init', '0,0'), ('right', '0,1')],\n",
       " [('init', '0,0'), ('right', '0,1')],\n",
       " [('init', '0,0'), ('right', '0,1')],\n",
       " [('init', '0,0'), ('right', '0,1')],\n",
       " [('init', '0,0'), ('right', '0,1')],\n",
       " [('init', '0,0'), ('right', '0,1')],\n",
       " [('init', '0,0'), ('right', '0,1')],\n",
       " [('init', '0,0'), ('right', '0,1')],\n",
       " [('init', '0,0'), ('right', '0,1')],\n",
       " [('init', '0,0'), ('right', '0,1')],\n",
       " [('init', '0,0'), ('right', '0,1')],\n",
       " [('init', '0,0'), ('right', '0,1')],\n",
       " [('init', '0,0'), ('right', '0,1')],\n",
       " [('init', '0,0'), ('right', '0,1')],\n",
       " [('init', '0,0'), ('right', '0,1')],\n",
       " [('init', '0,0'), ('right', '0,1')],\n",
       " [('init', '0,0'), ('right', '0,1')]]"
      ]
     },
     "execution_count": 28,
     "metadata": {},
     "output_type": "execute_result"
    }
   ],
   "source": [
    "possible_states"
   ]
  },
  {
   "cell_type": "code",
   "execution_count": null,
   "id": "6665241b",
   "metadata": {},
   "outputs": [],
   "source": [
    "possible_states[-1].append(('left','0,-1'))"
   ]
  },
  {
   "cell_type": "code",
   "execution_count": null,
   "id": "3b938577",
   "metadata": {},
   "outputs": [],
   "source": [
    "possible_states"
   ]
  }
 ],
 "metadata": {
  "kernelspec": {
   "display_name": "Python 3 (ipykernel)",
   "language": "python",
   "name": "python3"
  },
  "language_info": {
   "codemirror_mode": {
    "name": "ipython",
    "version": 3
   },
   "file_extension": ".py",
   "mimetype": "text/x-python",
   "name": "python",
   "nbconvert_exporter": "python",
   "pygments_lexer": "ipython3",
   "version": "3.10.0"
  }
 },
 "nbformat": 4,
 "nbformat_minor": 5
}
